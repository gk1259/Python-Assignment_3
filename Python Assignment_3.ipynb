{
 "cells": [
  {
   "cell_type": "markdown",
   "id": "3faf430f-ae04-4d06-922b-4e72dea69de9",
   "metadata": {},
   "source": [
    "1. Explain with an example each when to use a for loop and a while loop."
   ]
  },
  {
   "cell_type": "code",
   "execution_count": 1,
   "id": "c30f37d1-63fe-46d0-a963-a17e607d21bf",
   "metadata": {},
   "outputs": [
    {
     "name": "stdout",
     "output_type": "stream",
     "text": [
      "1\n",
      "2\n",
      "5.6\n",
      "ram\n"
     ]
    }
   ],
   "source": [
    "#For loop is used to iterate over a sequence that executes a set of statements.\n",
    "# For example,\n",
    "\n",
    "a = [1,2,5.6,'ram']\n",
    "\n",
    "for i in a :\n",
    "    print(i)    "
   ]
  },
  {
   "cell_type": "markdown",
   "id": "14fc018e-c07c-400f-a3aa-759c0a3e37a1",
   "metadata": {},
   "source": [
    "Explanation :\n",
    "1. We've assigned a variable i , which is going to be a placeholder for each item in our iterable object.\n",
    "2. In this the variable i represents the elements of the given list.\n",
    "3. Then, we print the variable i.\n",
    "\n",
    "Note : This process continues until all the items of the given list have been printed."
   ]
  },
  {
   "cell_type": "code",
   "execution_count": 2,
   "id": "4f8470df-44f3-4c0d-a78f-50028daad7ee",
   "metadata": {},
   "outputs": [
    {
     "name": "stdout",
     "output_type": "stream",
     "text": [
      "1\n",
      "2\n",
      "3\n",
      "4\n"
     ]
    }
   ],
   "source": [
    "#While loop is used to run a block code until a certain condition is met.\n",
    "# For example,\n",
    "\n",
    "x = 1\n",
    "\n",
    "while x < 5 :\n",
    "    print(x)\n",
    "    x = x + 1"
   ]
  },
  {
   "cell_type": "markdown",
   "id": "2c6860a6-f04d-4e6f-b5bb-6005e0cfd0bf",
   "metadata": {},
   "source": [
    "Explanation : \n",
    "\n",
    "1. We assigned a value to the variable x = 1\n",
    "2. In this, the value of x is less than 5.\n",
    "3. Now it will print the value of x.\n",
    "4. After that, the value of x will be increased by 1 and this process will happen as long as the value of x is less than 5."
   ]
  },
  {
   "cell_type": "markdown",
   "id": "2ab042fb-dece-4db1-bd43-420e7102263d",
   "metadata": {},
   "source": [
    "***\n",
    "2. Write a python program to print the sum and product of the first 10 natural numbers using for and while loop. "
   ]
  },
  {
   "cell_type": "code",
   "execution_count": 3,
   "id": "93158542-4bfc-4312-af80-54d0d2808050",
   "metadata": {},
   "outputs": [
    {
     "name": "stdin",
     "output_type": "stream",
     "text": [
      "natural number 10\n"
     ]
    },
    {
     "name": "stdout",
     "output_type": "stream",
     "text": [
      "55\n"
     ]
    }
   ],
   "source": [
    "#sum the first 10 natural numbers using a for loop:\n",
    "\n",
    "number = int(input(\"natural number\"))\n",
    "_sum = 0\n",
    "\n",
    "for i in range(1, number + 1) :\n",
    "    _sum = _sum + i\n",
    "\n",
    "print(_sum)"
   ]
  },
  {
   "cell_type": "code",
   "execution_count": 4,
   "id": "468fdb9e-bba6-48dd-a58a-f2b9c4ffa5ad",
   "metadata": {},
   "outputs": [
    {
     "name": "stdin",
     "output_type": "stream",
     "text": [
      "natural number 10\n"
     ]
    },
    {
     "name": "stdout",
     "output_type": "stream",
     "text": [
      "55\n"
     ]
    }
   ],
   "source": [
    "#sum the first 10 natural numbers using a while loop:\n",
    "\n",
    "num = int(input(\"natural number\"))\n",
    "_sum = 0\n",
    "\n",
    "while num > 0 :\n",
    "    _sum = _sum + num\n",
    "    num = num - 1\n",
    "\n",
    "print(_sum)"
   ]
  },
  {
   "cell_type": "code",
   "execution_count": 8,
   "id": "e31d5913-b2ec-44bb-ba0e-981290d91026",
   "metadata": {},
   "outputs": [
    {
     "name": "stdin",
     "output_type": "stream",
     "text": [
      "enter your product 1\n"
     ]
    },
    {
     "name": "stdout",
     "output_type": "stream",
     "text": [
      "product 3628800\n"
     ]
    }
   ],
   "source": [
    "#product the first 10 natural numbers using a for loop:\n",
    "\n",
    "product = int(input('enter your product'))\n",
    "\n",
    "for i in range(1,11) :\n",
    "    product = product * i\n",
    "    \n",
    "print(f\"product {product}\")"
   ]
  },
  {
   "cell_type": "code",
   "execution_count": 5,
   "id": "2af2fae2-39d5-4394-b68d-97e2823ff214",
   "metadata": {},
   "outputs": [
    {
     "name": "stdin",
     "output_type": "stream",
     "text": [
      "enter your product 1\n"
     ]
    },
    {
     "name": "stdout",
     "output_type": "stream",
     "text": [
      "3628800\n"
     ]
    }
   ],
   "source": [
    "#sum the first 10 natural numbers using a while loop:\n",
    "\n",
    "product = int(input('enter your product'))\n",
    "num = 1\n",
    "\n",
    "while num <= 10 :\n",
    "    product = product * num\n",
    "    num = num + 1\n",
    "    \n",
    "print(product)"
   ]
  },
  {
   "cell_type": "markdown",
   "id": "eb6d89ad-5f5f-426e-9b94-4d376e5d9e15",
   "metadata": {},
   "source": [
    "***\n",
    "3. Create a python program to compute the electricity bill for a household. \n",
    "\n",
    "The per-unit charges in rupees are as follows: For the first 100 units, the user will be charged Rs. 4.5 per  unit, for the next 100 units, the user will be charged Rs. 6 per unit, and for the next 100 units, the user will  be charged Rs. 10 per unit, After 300 units and above the user will be charged Rs. 20 per unit. \n",
    "\n",
    "You are required to take the units of electricity consumed in a month from the user as input. \n",
    "\n",
    "Your program must pass this test case: when the unit of electricity consumed by the user in a month is  310, the total electricity bill should be 2250. "
   ]
  },
  {
   "cell_type": "code",
   "execution_count": 7,
   "id": "9f7e2c62-573c-46d3-89e7-75504728e646",
   "metadata": {},
   "outputs": [
    {
     "name": "stdin",
     "output_type": "stream",
     "text": [
      "One month electric consumption 310\n"
     ]
    },
    {
     "name": "stdout",
     "output_type": "stream",
     "text": [
      "2250.0\n"
     ]
    }
   ],
   "source": [
    "unit = int(input('One month electric consumption'))\n",
    "\n",
    "if unit <= 100 :\n",
    "    print(unit * 4.5)\n",
    "    \n",
    "elif unit > 100 and unit <= 200 :\n",
    "    print((100 * 4.5) + (unit - 100) * 6.0)\n",
    "    #print(previous electric bill + current - previous consumption units * current units chrge)\n",
    "    \n",
    "elif unit > 200 and unit <= 300 :\n",
    "    print((100 * 4.5) + (100 * 6.0) + (unit - 200) * 10)\n",
    "    #print(previous 2 electric bill + current - previous consumption units * current units chrge)\n",
    "    \n",
    "else :\n",
    "    print((100 * 4.5) + (100 * 6.0) + (100 * 10) + (unit - 300) * 20)\n",
    "    #print(previous 3 electric bill + current - previous consumption units * current units chrge)"
   ]
  },
  {
   "cell_type": "markdown",
   "id": "550efa8d-4bff-4ecc-b9c1-5eccb85486c1",
   "metadata": {},
   "source": [
    "***\n",
    "4. Create a list of numbers from 1 to 100. Use for loop and while loop to calculate the cube of each  number and if the cube of that number is divisible by 4 or 5 then append that number in a list and print  that list. "
   ]
  },
  {
   "cell_type": "code",
   "execution_count": 8,
   "id": "191709ff-c7e0-440b-800c-34e7f3ebe2be",
   "metadata": {},
   "outputs": [
    {
     "name": "stdout",
     "output_type": "stream",
     "text": [
      "[2, 4, 5, 6, 8, 10, 12, 14, 15, 16, 18, 20, 22, 24, 25, 26, 28, 30, 32, 34, 35, 36, 38, 40, 42, 44, 45, 46, 48, 50, 52, 54, 55, 56, 58, 60, 62, 64, 65, 66, 68, 70, 72, 74, 75, 76, 78, 80, 82, 84, 85, 86, 88, 90, 92, 94, 95, 96, 98, 100]\n"
     ]
    }
   ],
   "source": [
    "# for loop\n",
    "\n",
    "list_1 = list(range(1,101))\n",
    "list_2 = []\n",
    "\n",
    "for i in list_1 :\n",
    "    cube = i ** 3\n",
    "    if cube % 4 == 0 or cube % 5 == 0 :\n",
    "        list_2.append(i)\n",
    "        \n",
    "print(list_2)    "
   ]
  },
  {
   "cell_type": "code",
   "execution_count": 9,
   "id": "45c869c9-6d6d-408e-a6de-74eae82370a8",
   "metadata": {},
   "outputs": [
    {
     "name": "stdout",
     "output_type": "stream",
     "text": [
      "[2, 4, 5, 6, 8, 10, 12, 14, 15, 16, 18, 20, 22, 24, 25, 26, 28, 30, 32, 34, 35, 36, 38, 40, 42, 44, 45, 46, 48, 50, 52, 54, 55, 56, 58, 60, 62, 64, 65, 66, 68, 70, 72, 74, 75, 76, 78, 80, 82, 84, 85, 86, 88, 90, 92, 94, 95, 96, 98, 100]\n"
     ]
    }
   ],
   "source": [
    "# while loop\n",
    "\n",
    "list_1 = list(range(1,101))\n",
    "list_2 = []\n",
    "counter = 1\n",
    "\n",
    "while counter <= len(list_1) :\n",
    "    cube = counter ** 3\n",
    "    if cube % 4 == 0 or cube % 5 == 0 :\n",
    "        list_2.append(counter)\n",
    "    counter = counter + 1\n",
    "        \n",
    "print(list_2)"
   ]
  },
  {
   "cell_type": "markdown",
   "id": "76525ada-3f43-4e89-af59-3b7498966db5",
   "metadata": {},
   "source": [
    "***\n",
    "5. Write a program to filter count vowels in the below-given string. string = \"I want to become a data scientist\" "
   ]
  },
  {
   "cell_type": "code",
   "execution_count": 10,
   "id": "a07668de-1fe3-48d8-850c-ba9ae8ad0bf6",
   "metadata": {},
   "outputs": [
    {
     "name": "stdout",
     "output_type": "stream",
     "text": [
      "Number of vowels is 12\n"
     ]
    }
   ],
   "source": [
    "string =  \"I want to become a data scientist\"\n",
    "count = 0\n",
    "\n",
    "for i in range(len(string)) :\n",
    "    if (string[i] == 'a' or (string[i] == 'e') or (string[i] == 'i') or (string[i] == 'o') or (string[i] == 'u')\n",
    "    or (string[i] == 'A') or (string[i] == 'E') or (string[i] == 'I') or (string[i] == 'O')\n",
    "    or (string[i] == 'U')) :\n",
    "        count = count + 1\n",
    "        \n",
    "        \n",
    "print(\"Number of vowels is\" , count)      "
   ]
  },
  {
   "cell_type": "code",
   "execution_count": null,
   "id": "a25f2899-3853-4742-b94c-712c50df90f9",
   "metadata": {},
   "outputs": [],
   "source": []
  }
 ],
 "metadata": {
  "kernelspec": {
   "display_name": "Python 3 (ipykernel)",
   "language": "python",
   "name": "python3"
  },
  "language_info": {
   "codemirror_mode": {
    "name": "ipython",
    "version": 3
   },
   "file_extension": ".py",
   "mimetype": "text/x-python",
   "name": "python",
   "nbconvert_exporter": "python",
   "pygments_lexer": "ipython3",
   "version": "3.10.8"
  }
 },
 "nbformat": 4,
 "nbformat_minor": 5
}
